{
 "cells": [
  {
   "cell_type": "code",
   "execution_count": 9,
   "id": "initial_id",
   "metadata": {
    "collapsed": true,
    "ExecuteTime": {
     "end_time": "2024-02-20T17:59:22.195100400Z",
     "start_time": "2024-02-20T17:59:22.165547300Z"
    }
   },
   "outputs": [],
   "source": [
    "import os\n",
    "\n",
    "from dotenv import load_dotenv\n",
    "import pandas as pd\n",
    "import numpy as np\n",
    "import os\n",
    "import openai\n",
    "import json"
   ]
  },
  {
   "cell_type": "markdown",
   "source": [
    "### API Key - This key is private. You can get your own API key"
   ],
   "metadata": {
    "collapsed": false
   },
   "id": "57705057b4fd9f83"
  },
  {
   "cell_type": "code",
   "outputs": [],
   "source": [
    "load_dotenv()\n",
    "API_KEY = os.environ['OPENAI_API_KEY']"
   ],
   "metadata": {
    "collapsed": false,
    "ExecuteTime": {
     "end_time": "2024-02-20T17:59:23.001630600Z",
     "start_time": "2024-02-20T17:59:22.975695400Z"
    }
   },
   "id": "2e18f731272b5ec4",
   "execution_count": 10
  },
  {
   "cell_type": "markdown",
   "source": [
    "### importing the dataset"
   ],
   "metadata": {
    "collapsed": false
   },
   "id": "eaa2ccfce073cac2"
  },
  {
   "cell_type": "code",
   "outputs": [
    {
     "data": {
      "text/plain": "    symbol                       name        headQuarter  dateFirstAdded  \\\n0     AAPL                 Apple Inc.      Cupertino, CA             NaN   \n1     ABNB                     Airbnb  San Francisco, CA             NaN   \n2     ADBE                 Adobe Inc.       San Jose, CA             NaN   \n3      ADI             Analog Devices     Wilmington, MA             NaN   \n4      ADP                        ADP       Roseland, NJ             NaN   \n..     ...                        ...                ...             ...   \n96     WBD     Warner Bros. Discovery       New York, NY             NaN   \n97    WDAY              Workday, Inc.     Pleasanton, CA             NaN   \n98     XEL                Xcel Energy    Minneapolis, MN             NaN   \n99      ZM  Zoom Video Communications       San Jose, CA             NaN   \n100     ZS                    Zscaler       San Jose, CA             NaN   \n\n         cik     founded  \n0     320193  1976-04-01  \n1    1559720  2008-08-01  \n2     796343  1982-12-01  \n3       6281  1965-01-01  \n4       8670  1949-01-01  \n..       ...         ...  \n96   1437107  2022-04-08  \n97   1327811  2005-03-01  \n98     72903  1909-06-17  \n99   1585521  2011-04-21  \n100  1713683  2007-01-01  \n\n[101 rows x 6 columns]",
      "text/html": "<div>\n<style scoped>\n    .dataframe tbody tr th:only-of-type {\n        vertical-align: middle;\n    }\n\n    .dataframe tbody tr th {\n        vertical-align: top;\n    }\n\n    .dataframe thead th {\n        text-align: right;\n    }\n</style>\n<table border=\"1\" class=\"dataframe\">\n  <thead>\n    <tr style=\"text-align: right;\">\n      <th></th>\n      <th>symbol</th>\n      <th>name</th>\n      <th>headQuarter</th>\n      <th>dateFirstAdded</th>\n      <th>cik</th>\n      <th>founded</th>\n    </tr>\n  </thead>\n  <tbody>\n    <tr>\n      <th>0</th>\n      <td>AAPL</td>\n      <td>Apple Inc.</td>\n      <td>Cupertino, CA</td>\n      <td>NaN</td>\n      <td>320193</td>\n      <td>1976-04-01</td>\n    </tr>\n    <tr>\n      <th>1</th>\n      <td>ABNB</td>\n      <td>Airbnb</td>\n      <td>San Francisco, CA</td>\n      <td>NaN</td>\n      <td>1559720</td>\n      <td>2008-08-01</td>\n    </tr>\n    <tr>\n      <th>2</th>\n      <td>ADBE</td>\n      <td>Adobe Inc.</td>\n      <td>San Jose, CA</td>\n      <td>NaN</td>\n      <td>796343</td>\n      <td>1982-12-01</td>\n    </tr>\n    <tr>\n      <th>3</th>\n      <td>ADI</td>\n      <td>Analog Devices</td>\n      <td>Wilmington, MA</td>\n      <td>NaN</td>\n      <td>6281</td>\n      <td>1965-01-01</td>\n    </tr>\n    <tr>\n      <th>4</th>\n      <td>ADP</td>\n      <td>ADP</td>\n      <td>Roseland, NJ</td>\n      <td>NaN</td>\n      <td>8670</td>\n      <td>1949-01-01</td>\n    </tr>\n    <tr>\n      <th>...</th>\n      <td>...</td>\n      <td>...</td>\n      <td>...</td>\n      <td>...</td>\n      <td>...</td>\n      <td>...</td>\n    </tr>\n    <tr>\n      <th>96</th>\n      <td>WBD</td>\n      <td>Warner Bros. Discovery</td>\n      <td>New York, NY</td>\n      <td>NaN</td>\n      <td>1437107</td>\n      <td>2022-04-08</td>\n    </tr>\n    <tr>\n      <th>97</th>\n      <td>WDAY</td>\n      <td>Workday, Inc.</td>\n      <td>Pleasanton, CA</td>\n      <td>NaN</td>\n      <td>1327811</td>\n      <td>2005-03-01</td>\n    </tr>\n    <tr>\n      <th>98</th>\n      <td>XEL</td>\n      <td>Xcel Energy</td>\n      <td>Minneapolis, MN</td>\n      <td>NaN</td>\n      <td>72903</td>\n      <td>1909-06-17</td>\n    </tr>\n    <tr>\n      <th>99</th>\n      <td>ZM</td>\n      <td>Zoom Video Communications</td>\n      <td>San Jose, CA</td>\n      <td>NaN</td>\n      <td>1585521</td>\n      <td>2011-04-21</td>\n    </tr>\n    <tr>\n      <th>100</th>\n      <td>ZS</td>\n      <td>Zscaler</td>\n      <td>San Jose, CA</td>\n      <td>NaN</td>\n      <td>1713683</td>\n      <td>2007-01-01</td>\n    </tr>\n  </tbody>\n</table>\n<p>101 rows × 6 columns</p>\n</div>"
     },
     "execution_count": 11,
     "metadata": {},
     "output_type": "execute_result"
    }
   ],
   "source": [
    "main_data = pd.read_csv(\"../res/nasdaq100.csv\")\n",
    "num_data = pd.read_csv(\"../res/nasdaq100_price_change.csv\")\n",
    "main_data"
   ],
   "metadata": {
    "collapsed": false,
    "ExecuteTime": {
     "end_time": "2024-02-20T17:59:23.893194600Z",
     "start_time": "2024-02-20T17:59:23.778246200Z"
    }
   },
   "id": "fae940ea5f9d0c6",
   "execution_count": 11
  },
  {
   "cell_type": "code",
   "outputs": [
    {
     "data": {
      "text/plain": "    symbol      1D        5D        1M        3M        6M       ytd  \\\n0     AAPL -1.7254  -8.30086  -6.20411   3.04200  15.64824  42.99992   \n1     ABNB  2.1617  -2.21919   9.88336  19.43286  19.64241  68.66902   \n2     ADBE  0.5409  -1.77817   9.16191  52.04650  38.01522  57.22723   \n3      ADI  0.9291  -4.03352   2.58486   3.65887   5.01602  17.02062   \n4      ADP  2.0589   2.35462  14.66581  16.40059  10.60546   5.53732   \n..     ...     ...       ...       ...       ...       ...       ...   \n96     WBD  3.5791  13.98188  15.39075  12.25756  -5.60992  51.67715   \n97    WDAY  1.4905  -1.04652   6.77548  28.69187  21.79922  37.90965   \n98     XEL -1.0432  -4.81045  -5.03734 -14.10091 -13.24042 -14.71386   \n99      ZM -0.5792  -3.99888   4.55307   8.29653 -18.89913   3.00030   \n100     ZS -0.5610  -8.59119   1.50859  62.46367   5.27307  31.89945   \n\n            1Y        3Y         5Y         10Y           max  \n0     8.479410  60.96299  245.42031   976.99441  139245.53954  \n1    23.640130  -1.04347   -1.04347    -1.04347      -1.04347  \n2    21.962060  17.83037  109.05718  1024.69214  251030.66399  \n3     8.097350  63.42847   92.81874   286.77518   26012.63736  \n4     0.888943  81.76679   81.87224   248.40950   27613.11042  \n..         ...       ...        ...         ...           ...  \n96    3.209700 -31.02955  -43.36595   -65.85990     -12.30303  \n97   40.017990  31.59971   75.93220   221.38434     353.49515  \n98  -19.133960 -17.39010   26.61017   100.87395     724.27586  \n99  -40.160360 -73.46268   10.74194    10.74194      10.74194  \n100 -13.565270  15.48669  290.17450   340.42424     340.42424  \n\n[101 rows x 12 columns]",
      "text/html": "<div>\n<style scoped>\n    .dataframe tbody tr th:only-of-type {\n        vertical-align: middle;\n    }\n\n    .dataframe tbody tr th {\n        vertical-align: top;\n    }\n\n    .dataframe thead th {\n        text-align: right;\n    }\n</style>\n<table border=\"1\" class=\"dataframe\">\n  <thead>\n    <tr style=\"text-align: right;\">\n      <th></th>\n      <th>symbol</th>\n      <th>1D</th>\n      <th>5D</th>\n      <th>1M</th>\n      <th>3M</th>\n      <th>6M</th>\n      <th>ytd</th>\n      <th>1Y</th>\n      <th>3Y</th>\n      <th>5Y</th>\n      <th>10Y</th>\n      <th>max</th>\n    </tr>\n  </thead>\n  <tbody>\n    <tr>\n      <th>0</th>\n      <td>AAPL</td>\n      <td>-1.7254</td>\n      <td>-8.30086</td>\n      <td>-6.20411</td>\n      <td>3.04200</td>\n      <td>15.64824</td>\n      <td>42.99992</td>\n      <td>8.479410</td>\n      <td>60.96299</td>\n      <td>245.42031</td>\n      <td>976.99441</td>\n      <td>139245.53954</td>\n    </tr>\n    <tr>\n      <th>1</th>\n      <td>ABNB</td>\n      <td>2.1617</td>\n      <td>-2.21919</td>\n      <td>9.88336</td>\n      <td>19.43286</td>\n      <td>19.64241</td>\n      <td>68.66902</td>\n      <td>23.640130</td>\n      <td>-1.04347</td>\n      <td>-1.04347</td>\n      <td>-1.04347</td>\n      <td>-1.04347</td>\n    </tr>\n    <tr>\n      <th>2</th>\n      <td>ADBE</td>\n      <td>0.5409</td>\n      <td>-1.77817</td>\n      <td>9.16191</td>\n      <td>52.04650</td>\n      <td>38.01522</td>\n      <td>57.22723</td>\n      <td>21.962060</td>\n      <td>17.83037</td>\n      <td>109.05718</td>\n      <td>1024.69214</td>\n      <td>251030.66399</td>\n    </tr>\n    <tr>\n      <th>3</th>\n      <td>ADI</td>\n      <td>0.9291</td>\n      <td>-4.03352</td>\n      <td>2.58486</td>\n      <td>3.65887</td>\n      <td>5.01602</td>\n      <td>17.02062</td>\n      <td>8.097350</td>\n      <td>63.42847</td>\n      <td>92.81874</td>\n      <td>286.77518</td>\n      <td>26012.63736</td>\n    </tr>\n    <tr>\n      <th>4</th>\n      <td>ADP</td>\n      <td>2.0589</td>\n      <td>2.35462</td>\n      <td>14.66581</td>\n      <td>16.40059</td>\n      <td>10.60546</td>\n      <td>5.53732</td>\n      <td>0.888943</td>\n      <td>81.76679</td>\n      <td>81.87224</td>\n      <td>248.40950</td>\n      <td>27613.11042</td>\n    </tr>\n    <tr>\n      <th>...</th>\n      <td>...</td>\n      <td>...</td>\n      <td>...</td>\n      <td>...</td>\n      <td>...</td>\n      <td>...</td>\n      <td>...</td>\n      <td>...</td>\n      <td>...</td>\n      <td>...</td>\n      <td>...</td>\n      <td>...</td>\n    </tr>\n    <tr>\n      <th>96</th>\n      <td>WBD</td>\n      <td>3.5791</td>\n      <td>13.98188</td>\n      <td>15.39075</td>\n      <td>12.25756</td>\n      <td>-5.60992</td>\n      <td>51.67715</td>\n      <td>3.209700</td>\n      <td>-31.02955</td>\n      <td>-43.36595</td>\n      <td>-65.85990</td>\n      <td>-12.30303</td>\n    </tr>\n    <tr>\n      <th>97</th>\n      <td>WDAY</td>\n      <td>1.4905</td>\n      <td>-1.04652</td>\n      <td>6.77548</td>\n      <td>28.69187</td>\n      <td>21.79922</td>\n      <td>37.90965</td>\n      <td>40.017990</td>\n      <td>31.59971</td>\n      <td>75.93220</td>\n      <td>221.38434</td>\n      <td>353.49515</td>\n    </tr>\n    <tr>\n      <th>98</th>\n      <td>XEL</td>\n      <td>-1.0432</td>\n      <td>-4.81045</td>\n      <td>-5.03734</td>\n      <td>-14.10091</td>\n      <td>-13.24042</td>\n      <td>-14.71386</td>\n      <td>-19.133960</td>\n      <td>-17.39010</td>\n      <td>26.61017</td>\n      <td>100.87395</td>\n      <td>724.27586</td>\n    </tr>\n    <tr>\n      <th>99</th>\n      <td>ZM</td>\n      <td>-0.5792</td>\n      <td>-3.99888</td>\n      <td>4.55307</td>\n      <td>8.29653</td>\n      <td>-18.89913</td>\n      <td>3.00030</td>\n      <td>-40.160360</td>\n      <td>-73.46268</td>\n      <td>10.74194</td>\n      <td>10.74194</td>\n      <td>10.74194</td>\n    </tr>\n    <tr>\n      <th>100</th>\n      <td>ZS</td>\n      <td>-0.5610</td>\n      <td>-8.59119</td>\n      <td>1.50859</td>\n      <td>62.46367</td>\n      <td>5.27307</td>\n      <td>31.89945</td>\n      <td>-13.565270</td>\n      <td>15.48669</td>\n      <td>290.17450</td>\n      <td>340.42424</td>\n      <td>340.42424</td>\n    </tr>\n  </tbody>\n</table>\n<p>101 rows × 12 columns</p>\n</div>"
     },
     "execution_count": 12,
     "metadata": {},
     "output_type": "execute_result"
    }
   ],
   "source": [
    "num_data"
   ],
   "metadata": {
    "collapsed": false,
    "ExecuteTime": {
     "end_time": "2024-02-20T17:59:24.189661700Z",
     "start_time": "2024-02-20T17:59:24.030343400Z"
    }
   },
   "id": "d76fdc216c51e36f",
   "execution_count": 12
  },
  {
   "cell_type": "code",
   "outputs": [
    {
     "data": {
      "text/plain": "    key_0 symbol                       name        headQuarter  \\\n0    AAPL   AAPL                 Apple Inc.      Cupertino, CA   \n1    ABNB   ABNB                     Airbnb  San Francisco, CA   \n2    ADBE   ADBE                 Adobe Inc.       San Jose, CA   \n3     ADI    ADI             Analog Devices     Wilmington, MA   \n4     ADP    ADP                        ADP       Roseland, NJ   \n..    ...    ...                        ...                ...   \n96    WBD    WBD     Warner Bros. Discovery       New York, NY   \n97   WDAY   WDAY              Workday, Inc.     Pleasanton, CA   \n98    XEL    XEL                Xcel Energy    Minneapolis, MN   \n99     ZM     ZM  Zoom Video Communications       San Jose, CA   \n100    ZS     ZS                    Zscaler       San Jose, CA   \n\n     dateFirstAdded      cik     founded       ytd  \n0               NaN   320193  1976-04-01  42.99992  \n1               NaN  1559720  2008-08-01  68.66902  \n2               NaN   796343  1982-12-01  57.22723  \n3               NaN     6281  1965-01-01  17.02062  \n4               NaN     8670  1949-01-01   5.53732  \n..              ...      ...         ...       ...  \n96              NaN  1437107  2022-04-08  51.67715  \n97              NaN  1327811  2005-03-01  37.90965  \n98              NaN    72903  1909-06-17 -14.71386  \n99              NaN  1585521  2011-04-21   3.00030  \n100             NaN  1713683  2007-01-01  31.89945  \n\n[101 rows x 8 columns]",
      "text/html": "<div>\n<style scoped>\n    .dataframe tbody tr th:only-of-type {\n        vertical-align: middle;\n    }\n\n    .dataframe tbody tr th {\n        vertical-align: top;\n    }\n\n    .dataframe thead th {\n        text-align: right;\n    }\n</style>\n<table border=\"1\" class=\"dataframe\">\n  <thead>\n    <tr style=\"text-align: right;\">\n      <th></th>\n      <th>key_0</th>\n      <th>symbol</th>\n      <th>name</th>\n      <th>headQuarter</th>\n      <th>dateFirstAdded</th>\n      <th>cik</th>\n      <th>founded</th>\n      <th>ytd</th>\n    </tr>\n  </thead>\n  <tbody>\n    <tr>\n      <th>0</th>\n      <td>AAPL</td>\n      <td>AAPL</td>\n      <td>Apple Inc.</td>\n      <td>Cupertino, CA</td>\n      <td>NaN</td>\n      <td>320193</td>\n      <td>1976-04-01</td>\n      <td>42.99992</td>\n    </tr>\n    <tr>\n      <th>1</th>\n      <td>ABNB</td>\n      <td>ABNB</td>\n      <td>Airbnb</td>\n      <td>San Francisco, CA</td>\n      <td>NaN</td>\n      <td>1559720</td>\n      <td>2008-08-01</td>\n      <td>68.66902</td>\n    </tr>\n    <tr>\n      <th>2</th>\n      <td>ADBE</td>\n      <td>ADBE</td>\n      <td>Adobe Inc.</td>\n      <td>San Jose, CA</td>\n      <td>NaN</td>\n      <td>796343</td>\n      <td>1982-12-01</td>\n      <td>57.22723</td>\n    </tr>\n    <tr>\n      <th>3</th>\n      <td>ADI</td>\n      <td>ADI</td>\n      <td>Analog Devices</td>\n      <td>Wilmington, MA</td>\n      <td>NaN</td>\n      <td>6281</td>\n      <td>1965-01-01</td>\n      <td>17.02062</td>\n    </tr>\n    <tr>\n      <th>4</th>\n      <td>ADP</td>\n      <td>ADP</td>\n      <td>ADP</td>\n      <td>Roseland, NJ</td>\n      <td>NaN</td>\n      <td>8670</td>\n      <td>1949-01-01</td>\n      <td>5.53732</td>\n    </tr>\n    <tr>\n      <th>...</th>\n      <td>...</td>\n      <td>...</td>\n      <td>...</td>\n      <td>...</td>\n      <td>...</td>\n      <td>...</td>\n      <td>...</td>\n      <td>...</td>\n    </tr>\n    <tr>\n      <th>96</th>\n      <td>WBD</td>\n      <td>WBD</td>\n      <td>Warner Bros. Discovery</td>\n      <td>New York, NY</td>\n      <td>NaN</td>\n      <td>1437107</td>\n      <td>2022-04-08</td>\n      <td>51.67715</td>\n    </tr>\n    <tr>\n      <th>97</th>\n      <td>WDAY</td>\n      <td>WDAY</td>\n      <td>Workday, Inc.</td>\n      <td>Pleasanton, CA</td>\n      <td>NaN</td>\n      <td>1327811</td>\n      <td>2005-03-01</td>\n      <td>37.90965</td>\n    </tr>\n    <tr>\n      <th>98</th>\n      <td>XEL</td>\n      <td>XEL</td>\n      <td>Xcel Energy</td>\n      <td>Minneapolis, MN</td>\n      <td>NaN</td>\n      <td>72903</td>\n      <td>1909-06-17</td>\n      <td>-14.71386</td>\n    </tr>\n    <tr>\n      <th>99</th>\n      <td>ZM</td>\n      <td>ZM</td>\n      <td>Zoom Video Communications</td>\n      <td>San Jose, CA</td>\n      <td>NaN</td>\n      <td>1585521</td>\n      <td>2011-04-21</td>\n      <td>3.00030</td>\n    </tr>\n    <tr>\n      <th>100</th>\n      <td>ZS</td>\n      <td>ZS</td>\n      <td>Zscaler</td>\n      <td>San Jose, CA</td>\n      <td>NaN</td>\n      <td>1713683</td>\n      <td>2007-01-01</td>\n      <td>31.89945</td>\n    </tr>\n  </tbody>\n</table>\n<p>101 rows × 8 columns</p>\n</div>"
     },
     "execution_count": 13,
     "metadata": {},
     "output_type": "execute_result"
    }
   ],
   "source": [
    "pd.merge(left=main_data,right=num_data['ytd'],how=\"left\",on=main_data.symbol)"
   ],
   "metadata": {
    "collapsed": false,
    "ExecuteTime": {
     "end_time": "2024-02-20T17:59:24.930618900Z",
     "start_time": "2024-02-20T17:59:24.542561300Z"
    }
   },
   "id": "9a0b93c270d5914",
   "execution_count": 13
  },
  {
   "cell_type": "markdown",
   "source": [
    "## See all companies present in the data"
   ],
   "metadata": {
    "collapsed": false
   },
   "id": "78ca505b3f500d3"
  },
  {
   "cell_type": "code",
   "outputs": [
    {
     "name": "stdout",
     "output_type": "stream",
     "text": [
      "Apple Inc.\n",
      "Airbnb\n",
      "Adobe Inc.\n",
      "Analog Devices\n",
      "ADP\n",
      "Autodesk\n",
      "American Electric Power\n",
      "Align Technology\n",
      "Applied Materials\n",
      "Advanced Micro Devices Inc.\n",
      "Amgen\n",
      "Amazon\n",
      "Ansys\n",
      "ASML Holding\n",
      "Activision Blizzard\n",
      "Broadcom Inc.\n",
      "AstraZeneca\n",
      "Biogen\n",
      "Booking Holdings\n",
      "Baker Hughes\n",
      "Cadence Design Systems\n",
      "Constellation Energy\n",
      "Charter Communications\n",
      "Comcast\n",
      "Costco\n",
      "Copart\n",
      "CrowdStrike\n",
      "Cisco\n",
      "CoStar Group\n",
      "CSX Corporation\n",
      "Cintas\n",
      "Cognizant\n",
      "Datadog\n",
      "Dollar Tree\n",
      "DexCom\n",
      "Electronic Arts\n",
      "eBay\n",
      "Enphase Energy\n",
      "Exelon\n",
      "Diamondback Energy\n",
      "Fastenal\n",
      "Fortinet\n",
      "GE HealthCare\n",
      "GlobalFoundries\n",
      "Gilead Sciences\n",
      "Alphabet Inc. (Class C)\n",
      "Alphabet Inc. (Class A)\n",
      "Honeywell\n",
      "Idexx Laboratories\n",
      "Illumina, Inc.\n",
      "Intel\n",
      "Intuit\n",
      "Intuitive Surgical\n",
      "JD.com\n",
      "Keurig Dr Pepper\n",
      "Kraft Heinz\n",
      "KLA Corporation\n",
      "Lucid Motors\n",
      "Lam Research\n",
      "Lululemon\n",
      "Marriott International\n",
      "Microchip Technology\n",
      "Mondelēz International\n",
      "MercadoLibre\n",
      "Meta Platforms\n",
      "Monster Beverage\n",
      "Moderna\n",
      "Marvell Technology\n",
      "Microsoft\n",
      "Micron Technology\n",
      "Netflix\n",
      "Nvidia\n",
      "NXP\n",
      "Old Dominion Freight Line\n",
      "Onsemi\n",
      "O'Reilly Automotive\n",
      "Palo Alto Networks\n",
      "Paychex\n",
      "Paccar\n",
      "PDD Holdings\n",
      "PepsiCo\n",
      "PayPal\n",
      "Qualcomm\n",
      "Regeneron\n",
      "Ross Stores\n",
      "Starbucks\n",
      "Seagen\n",
      "Sirius XM\n",
      "Synopsys\n",
      "Atlassian\n",
      "T-Mobile US\n",
      "Tesla, Inc.\n",
      "Texas Instruments\n",
      "Verisk\n",
      "Vertex Pharmaceuticals\n",
      "Walgreens Boots Alliance\n",
      "Warner Bros. Discovery\n",
      "Workday, Inc.\n",
      "Xcel Energy\n",
      "Zoom Video Communications\n",
      "Zscaler\n"
     ]
    }
   ],
   "source": [
    "for comany_name in main_data['name']:\n",
    "    print(comany_name)"
   ],
   "metadata": {
    "collapsed": false,
    "ExecuteTime": {
     "end_time": "2024-02-20T17:59:25.132292500Z",
     "start_time": "2024-02-20T17:59:24.998423900Z"
    }
   },
   "id": "f695144c91b6d23b",
   "execution_count": 14
  },
  {
   "cell_type": "code",
   "outputs": [
    {
     "data": {
      "text/plain": "    symbol                       name        headQuarter  dateFirstAdded  \\\n0     AAPL                 Apple Inc.      Cupertino, CA             NaN   \n1     ABNB                     Airbnb  San Francisco, CA             NaN   \n2     ADBE                 Adobe Inc.       San Jose, CA             NaN   \n3      ADI             Analog Devices     Wilmington, MA             NaN   \n4      ADP                        ADP       Roseland, NJ             NaN   \n..     ...                        ...                ...             ...   \n96     WBD     Warner Bros. Discovery       New York, NY             NaN   \n97    WDAY              Workday, Inc.     Pleasanton, CA             NaN   \n98     XEL                Xcel Energy    Minneapolis, MN             NaN   \n99      ZM  Zoom Video Communications       San Jose, CA             NaN   \n100     ZS                    Zscaler       San Jose, CA             NaN   \n\n         cik     founded sector  \n0     320193  1976-04-01   None  \n1    1559720  2008-08-01   None  \n2     796343  1982-12-01   None  \n3       6281  1965-01-01   None  \n4       8670  1949-01-01   None  \n..       ...         ...    ...  \n96   1437107  2022-04-08   None  \n97   1327811  2005-03-01   None  \n98     72903  1909-06-17   None  \n99   1585521  2011-04-21   None  \n100  1713683  2007-01-01   None  \n\n[101 rows x 7 columns]",
      "text/html": "<div>\n<style scoped>\n    .dataframe tbody tr th:only-of-type {\n        vertical-align: middle;\n    }\n\n    .dataframe tbody tr th {\n        vertical-align: top;\n    }\n\n    .dataframe thead th {\n        text-align: right;\n    }\n</style>\n<table border=\"1\" class=\"dataframe\">\n  <thead>\n    <tr style=\"text-align: right;\">\n      <th></th>\n      <th>symbol</th>\n      <th>name</th>\n      <th>headQuarter</th>\n      <th>dateFirstAdded</th>\n      <th>cik</th>\n      <th>founded</th>\n      <th>sector</th>\n    </tr>\n  </thead>\n  <tbody>\n    <tr>\n      <th>0</th>\n      <td>AAPL</td>\n      <td>Apple Inc.</td>\n      <td>Cupertino, CA</td>\n      <td>NaN</td>\n      <td>320193</td>\n      <td>1976-04-01</td>\n      <td>None</td>\n    </tr>\n    <tr>\n      <th>1</th>\n      <td>ABNB</td>\n      <td>Airbnb</td>\n      <td>San Francisco, CA</td>\n      <td>NaN</td>\n      <td>1559720</td>\n      <td>2008-08-01</td>\n      <td>None</td>\n    </tr>\n    <tr>\n      <th>2</th>\n      <td>ADBE</td>\n      <td>Adobe Inc.</td>\n      <td>San Jose, CA</td>\n      <td>NaN</td>\n      <td>796343</td>\n      <td>1982-12-01</td>\n      <td>None</td>\n    </tr>\n    <tr>\n      <th>3</th>\n      <td>ADI</td>\n      <td>Analog Devices</td>\n      <td>Wilmington, MA</td>\n      <td>NaN</td>\n      <td>6281</td>\n      <td>1965-01-01</td>\n      <td>None</td>\n    </tr>\n    <tr>\n      <th>4</th>\n      <td>ADP</td>\n      <td>ADP</td>\n      <td>Roseland, NJ</td>\n      <td>NaN</td>\n      <td>8670</td>\n      <td>1949-01-01</td>\n      <td>None</td>\n    </tr>\n    <tr>\n      <th>...</th>\n      <td>...</td>\n      <td>...</td>\n      <td>...</td>\n      <td>...</td>\n      <td>...</td>\n      <td>...</td>\n      <td>...</td>\n    </tr>\n    <tr>\n      <th>96</th>\n      <td>WBD</td>\n      <td>Warner Bros. Discovery</td>\n      <td>New York, NY</td>\n      <td>NaN</td>\n      <td>1437107</td>\n      <td>2022-04-08</td>\n      <td>None</td>\n    </tr>\n    <tr>\n      <th>97</th>\n      <td>WDAY</td>\n      <td>Workday, Inc.</td>\n      <td>Pleasanton, CA</td>\n      <td>NaN</td>\n      <td>1327811</td>\n      <td>2005-03-01</td>\n      <td>None</td>\n    </tr>\n    <tr>\n      <th>98</th>\n      <td>XEL</td>\n      <td>Xcel Energy</td>\n      <td>Minneapolis, MN</td>\n      <td>NaN</td>\n      <td>72903</td>\n      <td>1909-06-17</td>\n      <td>None</td>\n    </tr>\n    <tr>\n      <th>99</th>\n      <td>ZM</td>\n      <td>Zoom Video Communications</td>\n      <td>San Jose, CA</td>\n      <td>NaN</td>\n      <td>1585521</td>\n      <td>2011-04-21</td>\n      <td>None</td>\n    </tr>\n    <tr>\n      <th>100</th>\n      <td>ZS</td>\n      <td>Zscaler</td>\n      <td>San Jose, CA</td>\n      <td>NaN</td>\n      <td>1713683</td>\n      <td>2007-01-01</td>\n      <td>None</td>\n    </tr>\n  </tbody>\n</table>\n<p>101 rows × 7 columns</p>\n</div>"
     },
     "execution_count": 15,
     "metadata": {},
     "output_type": "execute_result"
    }
   ],
   "source": [
    "#creating a sector column for data\n",
    "main_data['sector'] = \"None\"\n",
    "main_data"
   ],
   "metadata": {
    "collapsed": false,
    "ExecuteTime": {
     "end_time": "2024-02-20T17:59:28.150823900Z",
     "start_time": "2024-02-20T17:59:28.085858700Z"
    }
   },
   "id": "9d7503c9dfcb3e40",
   "execution_count": 15
  },
  {
   "cell_type": "markdown",
   "source": [
    "### Building API gateway"
   ],
   "metadata": {
    "collapsed": false
   },
   "id": "25e0efa9ecf00f58"
  },
  {
   "cell_type": "markdown",
   "source": [
    "#### Initialize the openAPI client"
   ],
   "metadata": {
    "collapsed": false
   },
   "id": "bceadd82815c5bb"
  },
  {
   "cell_type": "code",
   "outputs": [],
   "source": [
    "client = openai.OpenAI(\n",
    "    api_key=API_KEY\n",
    ")"
   ],
   "metadata": {
    "collapsed": false,
    "ExecuteTime": {
     "end_time": "2024-02-20T17:59:29.582335800Z",
     "start_time": "2024-02-20T17:59:29.538020400Z"
    }
   },
   "id": "d16154e56b27d99a",
   "execution_count": 16
  },
  {
   "cell_type": "markdown",
   "source": [
    "#### Testing OpenAPI prompt"
   ],
   "metadata": {
    "collapsed": false
   },
   "id": "483e35685e499d1c"
  },
  {
   "cell_type": "code",
   "outputs": [],
   "source": [
    "test_prompt = f\"\"\"Classify the company Apple Inc into one of the following sectors: Technology, Consumer, Cyclical, Industrial, Utilities, Healthcare, Marketing, Communication, Energy, Consumer, Defense, Real Estate, or Finance. Please only answer with one sector.\"\"\"\n"
   ],
   "metadata": {
    "collapsed": false,
    "ExecuteTime": {
     "end_time": "2024-02-17T20:53:08.856848900Z",
     "start_time": "2024-02-17T20:53:08.851821300Z"
    }
   },
   "id": "d7acbcf128d36307",
   "execution_count": 45
  },
  {
   "cell_type": "code",
   "outputs": [],
   "source": [
    "chat_completion = client.chat.completions.create(messages=[\n",
    "    {\n",
    "        \"role\":\"user\",\n",
    "        \"content\":test_prompt\n",
    "    }\n",
    "],model=\"gpt-3.5-turbo\")"
   ],
   "metadata": {
    "collapsed": false,
    "ExecuteTime": {
     "end_time": "2024-02-17T20:53:46.383157100Z",
     "start_time": "2024-02-17T20:53:44.479615300Z"
    }
   },
   "id": "81e8fa2256485299",
   "execution_count": 47
  },
  {
   "cell_type": "code",
   "outputs": [
    {
     "name": "stdout",
     "output_type": "stream",
     "text": [
      "('id', 'chatcmpl-8tLyvVa24ts7AUzgRprDslsiwWAe6')\n",
      "('choices', [Choice(finish_reason='stop', index=0, logprobs=None, message=ChatCompletionMessage(content='Technology', role='assistant', function_call=None, tool_calls=None))])\n",
      "('created', 1708203229)\n",
      "('model', 'gpt-3.5-turbo-0125')\n",
      "('object', 'chat.completion')\n",
      "('system_fingerprint', 'fp_6dd124df95')\n",
      "('usage', CompletionUsage(completion_tokens=1, prompt_tokens=56, total_tokens=57))\n"
     ]
    }
   ],
   "source": [
    "for chunks in chat_completion:\n",
    "    print(chunks)"
   ],
   "metadata": {
    "collapsed": false,
    "ExecuteTime": {
     "end_time": "2024-02-17T20:57:42.304489200Z",
     "start_time": "2024-02-17T20:57:42.289229Z"
    }
   },
   "id": "994249d1be4f75e4",
   "execution_count": 54
  },
  {
   "cell_type": "code",
   "outputs": [
    {
     "data": {
      "text/plain": "'Technology'"
     },
     "execution_count": 77,
     "metadata": {},
     "output_type": "execute_result"
    }
   ],
   "source": [
    "data_to_store = chat_completion.choices[0].message.content\n",
    "data_to_store"
   ],
   "metadata": {
    "collapsed": false,
    "ExecuteTime": {
     "end_time": "2024-02-17T21:12:44.971626900Z",
     "start_time": "2024-02-17T21:12:44.961614Z"
    }
   },
   "id": "c4c90eef09d1d0fd",
   "execution_count": 77
  },
  {
   "cell_type": "code",
   "outputs": [
    {
     "data": {
      "text/plain": "    symbol                       name        headQuarter  dateFirstAdded  \\\n0     AAPL                 Apple Inc.      Cupertino, CA             NaN   \n1     ABNB                     Airbnb  San Francisco, CA             NaN   \n2     ADBE                 Adobe Inc.       San Jose, CA             NaN   \n3      ADI             Analog Devices     Wilmington, MA             NaN   \n4      ADP                        ADP       Roseland, NJ             NaN   \n..     ...                        ...                ...             ...   \n96     WBD     Warner Bros. Discovery       New York, NY             NaN   \n97    WDAY              Workday, Inc.     Pleasanton, CA             NaN   \n98     XEL                Xcel Energy    Minneapolis, MN             NaN   \n99      ZM  Zoom Video Communications       San Jose, CA             NaN   \n100     ZS                    Zscaler       San Jose, CA             NaN   \n\n         cik     founded         sector  \n0     320193  1976-04-01     Technology  \n1    1559720  2008-08-01    Real Estate  \n2     796343  1982-12-01     Technology  \n3       6281  1965-01-01     Technology  \n4       8670  1949-01-01     Technology  \n..       ...         ...            ...  \n96   1437107  2022-04-08  Communication  \n97   1327811  2005-03-01     Technology  \n98     72903  1909-06-17      Utilities  \n99   1585521  2011-04-21     Technology  \n100  1713683  2007-01-01     Technology  \n\n[101 rows x 7 columns]",
      "text/html": "<div>\n<style scoped>\n    .dataframe tbody tr th:only-of-type {\n        vertical-align: middle;\n    }\n\n    .dataframe tbody tr th {\n        vertical-align: top;\n    }\n\n    .dataframe thead th {\n        text-align: right;\n    }\n</style>\n<table border=\"1\" class=\"dataframe\">\n  <thead>\n    <tr style=\"text-align: right;\">\n      <th></th>\n      <th>symbol</th>\n      <th>name</th>\n      <th>headQuarter</th>\n      <th>dateFirstAdded</th>\n      <th>cik</th>\n      <th>founded</th>\n      <th>sector</th>\n    </tr>\n  </thead>\n  <tbody>\n    <tr>\n      <th>0</th>\n      <td>AAPL</td>\n      <td>Apple Inc.</td>\n      <td>Cupertino, CA</td>\n      <td>NaN</td>\n      <td>320193</td>\n      <td>1976-04-01</td>\n      <td>Technology</td>\n    </tr>\n    <tr>\n      <th>1</th>\n      <td>ABNB</td>\n      <td>Airbnb</td>\n      <td>San Francisco, CA</td>\n      <td>NaN</td>\n      <td>1559720</td>\n      <td>2008-08-01</td>\n      <td>Real Estate</td>\n    </tr>\n    <tr>\n      <th>2</th>\n      <td>ADBE</td>\n      <td>Adobe Inc.</td>\n      <td>San Jose, CA</td>\n      <td>NaN</td>\n      <td>796343</td>\n      <td>1982-12-01</td>\n      <td>Technology</td>\n    </tr>\n    <tr>\n      <th>3</th>\n      <td>ADI</td>\n      <td>Analog Devices</td>\n      <td>Wilmington, MA</td>\n      <td>NaN</td>\n      <td>6281</td>\n      <td>1965-01-01</td>\n      <td>Technology</td>\n    </tr>\n    <tr>\n      <th>4</th>\n      <td>ADP</td>\n      <td>ADP</td>\n      <td>Roseland, NJ</td>\n      <td>NaN</td>\n      <td>8670</td>\n      <td>1949-01-01</td>\n      <td>Technology</td>\n    </tr>\n    <tr>\n      <th>...</th>\n      <td>...</td>\n      <td>...</td>\n      <td>...</td>\n      <td>...</td>\n      <td>...</td>\n      <td>...</td>\n      <td>...</td>\n    </tr>\n    <tr>\n      <th>96</th>\n      <td>WBD</td>\n      <td>Warner Bros. Discovery</td>\n      <td>New York, NY</td>\n      <td>NaN</td>\n      <td>1437107</td>\n      <td>2022-04-08</td>\n      <td>Communication</td>\n    </tr>\n    <tr>\n      <th>97</th>\n      <td>WDAY</td>\n      <td>Workday, Inc.</td>\n      <td>Pleasanton, CA</td>\n      <td>NaN</td>\n      <td>1327811</td>\n      <td>2005-03-01</td>\n      <td>Technology</td>\n    </tr>\n    <tr>\n      <th>98</th>\n      <td>XEL</td>\n      <td>Xcel Energy</td>\n      <td>Minneapolis, MN</td>\n      <td>NaN</td>\n      <td>72903</td>\n      <td>1909-06-17</td>\n      <td>Utilities</td>\n    </tr>\n    <tr>\n      <th>99</th>\n      <td>ZM</td>\n      <td>Zoom Video Communications</td>\n      <td>San Jose, CA</td>\n      <td>NaN</td>\n      <td>1585521</td>\n      <td>2011-04-21</td>\n      <td>Technology</td>\n    </tr>\n    <tr>\n      <th>100</th>\n      <td>ZS</td>\n      <td>Zscaler</td>\n      <td>San Jose, CA</td>\n      <td>NaN</td>\n      <td>1713683</td>\n      <td>2007-01-01</td>\n      <td>Technology</td>\n    </tr>\n  </tbody>\n</table>\n<p>101 rows × 7 columns</p>\n</div>"
     },
     "execution_count": 17,
     "metadata": {},
     "output_type": "execute_result"
    }
   ],
   "source": [
    "for company_name in main_data['name']:\n",
    "    # The below line creates a prompt to input to API for every company_name in the dataset\n",
    "    gpt_prompt = f\"\"\"Classify the company {company_name} into one of the following sectors: Technology, Consumer, Cyclical, Industrial, Utilities, Healthcare, Marketing, Communication, Energy, Consumer, Defense, Real Estate, or Finance. Please only answer with one sector.\"\"\"\n",
    "\n",
    "    result = client.chat.completions.create(messages=[\n",
    "        {\n",
    "            \"role\": \"user\",\n",
    "            \"content\": gpt_prompt\n",
    "        }\n",
    "    ], model=\"gpt-3.5-turbo\",\n",
    "    temperature= 0.3 )\n",
    "    \n",
    "    #storing the fetched sector from chatGPT\n",
    "    fetched_sector = result.choices[0].message.content\n",
    "    \n",
    "    #saving the values in the main dataset\n",
    "    main_data.loc[main_data['name'] == company_name , 'sector'] = fetched_sector\n",
    "\n",
    "main_data"
   ],
   "metadata": {
    "collapsed": false,
    "ExecuteTime": {
     "end_time": "2024-02-20T18:32:36.606471700Z",
     "start_time": "2024-02-20T17:59:40.178996900Z"
    }
   },
   "id": "f8182d102cd56a89",
   "execution_count": 17
  },
  {
   "cell_type": "code",
   "outputs": [
    {
     "name": "stdout",
     "output_type": "stream",
     "text": [
      "Technology\n",
      "Real Estate\n",
      "Utilities\n",
      "Healthcare\n",
      "Energy\n",
      "Communication\n",
      "Consumer\n",
      "Industrial\n",
      "Finance\n"
     ]
    }
   ],
   "source": [
    "for sectors in main_data['sector'].unique():\n",
    "    print(sectors)"
   ],
   "metadata": {
    "collapsed": false,
    "ExecuteTime": {
     "end_time": "2024-02-20T18:32:36.628470900Z",
     "start_time": "2024-02-20T18:32:36.608470800Z"
    }
   },
   "id": "b2f110f39099e70f",
   "execution_count": 18
  },
  {
   "cell_type": "markdown",
   "source": [
    "#### As you can see, few datafields have '.' in them. So we now fix this"
   ],
   "metadata": {
    "collapsed": false
   },
   "id": "f4bf2624eb9aeb64"
  },
  {
   "cell_type": "code",
   "outputs": [],
   "source": [
    "main_data['sector'] = main_data['sector'].str.replace('\\.','',regex=True)"
   ],
   "metadata": {
    "collapsed": false,
    "ExecuteTime": {
     "end_time": "2024-02-20T18:32:36.794904800Z",
     "start_time": "2024-02-20T18:32:36.628470900Z"
    }
   },
   "id": "f5e7270b8fb26914",
   "execution_count": 19
  },
  {
   "cell_type": "code",
   "outputs": [
    {
     "name": "stdout",
     "output_type": "stream",
     "text": [
      "Technology\n",
      "Real Estate\n",
      "Utilities\n",
      "Healthcare\n",
      "Energy\n",
      "Communication\n",
      "Consumer\n",
      "Industrial\n",
      "Finance\n"
     ]
    }
   ],
   "source": [
    "for sectors in main_data['sector'].unique():\n",
    "    print(sectors)"
   ],
   "metadata": {
    "collapsed": false,
    "ExecuteTime": {
     "end_time": "2024-02-20T18:32:36.797066700Z",
     "start_time": "2024-02-20T18:32:36.663470100Z"
    }
   },
   "id": "40250c2f6b161a10",
   "execution_count": 20
  },
  {
   "cell_type": "markdown",
   "source": [
    "### Now we export the data and save it somewhere so we can easily use it for later"
   ],
   "metadata": {
    "collapsed": false
   },
   "id": "f9ccf64592700fff"
  },
  {
   "cell_type": "code",
   "outputs": [],
   "source": [
    "main_data.to_csv(\"../res/updated_nasdaq100.csv\")"
   ],
   "metadata": {
    "collapsed": false,
    "ExecuteTime": {
     "end_time": "2024-02-20T18:32:36.894455800Z",
     "start_time": "2024-02-20T18:32:36.691769100Z"
    }
   },
   "id": "516f8b61c571088",
   "execution_count": 21
  },
  {
   "cell_type": "code",
   "outputs": [],
   "source": [
    "new_main_data = pd.read_csv(\"../res/updated_nasdaq100.csv\")"
   ],
   "metadata": {
    "collapsed": false,
    "ExecuteTime": {
     "end_time": "2024-02-20T18:32:36.924733Z",
     "start_time": "2024-02-20T18:32:36.734939500Z"
    }
   },
   "id": "7cdd3a21322d7fbc",
   "execution_count": 22
  },
  {
   "cell_type": "code",
   "outputs": [
    {
     "data": {
      "text/plain": "array(['Technology', 'Real Estate', 'Utilities', 'Healthcare', 'Energy',\n       'Communication', 'Consumer', 'Industrial', 'Finance'], dtype=object)"
     },
     "execution_count": 58,
     "metadata": {},
     "output_type": "execute_result"
    }
   ],
   "source": [
    "sectors_all = new_main_data[\"sector\"].unique()\n",
    "sectors_all"
   ],
   "metadata": {
    "collapsed": false,
    "ExecuteTime": {
     "end_time": "2024-02-20T18:59:00.080069500Z",
     "start_time": "2024-02-20T18:59:00.036030400Z"
    }
   },
   "id": "9d2c6710594fb5b9",
   "execution_count": 58
  },
  {
   "cell_type": "code",
   "outputs": [],
   "source": [
    "pass_dict = main_data.to_dict(orient='list')"
   ],
   "metadata": {
    "collapsed": false,
    "ExecuteTime": {
     "end_time": "2024-02-20T18:58:19.088323800Z",
     "start_time": "2024-02-20T18:58:19.058741700Z"
    }
   },
   "id": "5f3507392d0ac68b",
   "execution_count": 54
  },
  {
   "cell_type": "code",
   "outputs": [],
   "source": [
    "# The below line creates a prompt to input to API for every company_name in the dataset\n",
    "gpt_prompt = f\"\"\"Use the dataset passed with the prompt in form of a list converted from a dataframe to a list using pandas,to_dict() method. \n",
    "Please return me an answer containing the following things:\n",
    "1. The best sector to invest int\n",
    "2. Top 3 companies per sector. All sectors : {sectors_all}\n",
    "\n",
    "Dataset Dictionary : {pass_dict}\n",
    "\"\"\"\n",
    "\n",
    "result = client.chat.completions.create(messages=[\n",
    "    {\n",
    "        \"role\": \"user\",\n",
    "        \"content\": gpt_prompt\n",
    "    }\n",
    "], model=\"gpt-3.5-turbo\",\n",
    "    temperature=0.0)\n"
   ],
   "metadata": {
    "collapsed": false,
    "ExecuteTime": {
     "end_time": "2024-02-20T18:59:22.477381500Z",
     "start_time": "2024-02-20T18:59:18.012045600Z"
    }
   },
   "id": "ebc658605b25db4a",
   "execution_count": 59
  },
  {
   "cell_type": "code",
   "outputs": [
    {
     "data": {
      "text/plain": "['1. The best sector to invest in: Technology',\n '',\n '2. Top 3 companies per sector:',\n '- Technology: ',\n '    1. Apple Inc.',\n '    2. Adobe Inc.',\n '    3. Advanced Micro Devices Inc.',\n '    ',\n '- Real Estate:',\n '    1. Airbnb',\n '    ',\n '- Utilities:',\n '    1. American Electric Power',\n '    ',\n '- Healthcare:',\n '    1. Amgen',\n '    2. Biogen',\n '    3. Align Technology',\n '    ',\n '- Energy:',\n '    1. Baker Hughes',\n '    2. Diamondback Energy',\n '    ',\n '- Communication:',\n '    1. Charter Communications',\n '    2. Comcast',\n '    3. AT&T',\n '    ',\n '- Consumer:',\n '    1. Costco',\n '    2. Dollar Tree',\n '    3. PepsiCo',\n '    ',\n '- Industrial:',\n '    1. CSX Corporation',\n '    2. Cintas',\n '    3. Fastenal',\n '    ',\n '- Finance:',\n '    1. Meta Platforms',\n '    2. PayPal',\n '    3. Visa']"
     },
     "execution_count": 69,
     "metadata": {},
     "output_type": "execute_result"
    }
   ],
   "source": [
    "data = result.choices[0].message.content\n",
    "formated_data = data.split('\\n')\n",
    "formated_data\n"
   ],
   "metadata": {
    "collapsed": false,
    "ExecuteTime": {
     "end_time": "2024-02-20T19:05:43.712768300Z",
     "start_time": "2024-02-20T19:05:43.679692200Z"
    }
   },
   "id": "57b551fa94397b75",
   "execution_count": 69
  },
  {
   "cell_type": "code",
   "outputs": [],
   "source": [],
   "metadata": {
    "collapsed": false,
    "ExecuteTime": {
     "end_time": "2024-02-20T19:05:43.951986400Z",
     "start_time": "2024-02-20T19:05:43.916926400Z"
    }
   },
   "id": "c41bdc3781d21384",
   "execution_count": 69
  },
  {
   "cell_type": "code",
   "outputs": [],
   "source": [],
   "metadata": {
    "collapsed": false
   },
   "id": "d395a81a9c2eabf8"
  }
 ],
 "metadata": {
  "kernelspec": {
   "display_name": "Python 3",
   "language": "python",
   "name": "python3"
  },
  "language_info": {
   "codemirror_mode": {
    "name": "ipython",
    "version": 2
   },
   "file_extension": ".py",
   "mimetype": "text/x-python",
   "name": "python",
   "nbconvert_exporter": "python",
   "pygments_lexer": "ipython2",
   "version": "2.7.6"
  }
 },
 "nbformat": 4,
 "nbformat_minor": 5
}
